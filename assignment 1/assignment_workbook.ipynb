{
 "cells": [
  {
   "cell_type": "markdown",
   "metadata": {},
   "source": [
    "# Objective\n",
    "\n",
    "Writing is a hobby I've had for more than ten years now. I've written a lot during this time, from large novels to tiny tales, covering tutorials, essays, and formal reports. However, this raises the question: how much of a good writer am I? One way of evaluating that is by looking at how memorable my writing is. For example, one does not need to be told that a poem is from Shakespeare to identify it. Good writers have such a unique way of writing that they can be pinpointed right away.\n",
    "\n",
    "This assignment aims to use machine learning to gather insights into my writing. By the end, we'll conclude whether I'm a skilled data scientist and a reasonable human being or whether I should pursue my passion of becoming an AH major."
   ]
  },
  {
   "cell_type": "markdown",
   "metadata": {},
   "source": [
    "# Dataset Description\n",
    "\n",
    "The dataset used is comprised of writing samples from my Tumblr and Medium blogs, which can be downloaded as HMTL files in both websites. In total, 41 HTML files were gathered, each one representing a post (or a single text). The writing pieces were manually labeled into four categories:\n",
    "\n",
    "1. Social criticism/opinion piece\n",
    "2. Poem\n",
    "3. Tale\n",
    "4. Tutorial\n",
    "\n",
    "Last, writing samples have different lengths, are from different times, and are all in Portuguese, which is my native language."
   ]
  },
  {
   "cell_type": "markdown",
   "metadata": {},
   "source": [
    "# Importing Dataset to Python"
   ]
  },
  {
   "cell_type": "code",
   "execution_count": 78,
   "metadata": {},
   "outputs": [
    {
     "name": "stderr",
     "output_type": "stream",
     "text": [
      "[nltk_data] Downloading package punkt to\n",
      "[nltk_data]     /Users/felipebandeira/nltk_data...\n",
      "[nltk_data]   Package punkt is already up-to-date!\n"
     ]
    }
   ],
   "source": [
    "import os\n",
    "import pandas as pd\n",
    "from bs4 import BeautifulSoup\n",
    "import nltk\n",
    "\n",
    "# Download the NLTK punkt tokenizer data\n",
    "nltk.download('punkt')\n",
    "\n",
    "from nltk.tokenize import sent_tokenize"
   ]
  },
  {
   "cell_type": "code",
   "execution_count": 94,
   "metadata": {},
   "outputs": [],
   "source": [
    "# Define the folder containing HTML files\n",
    "folder_path = '/Users/felipebandeira/Desktop/cs156/assignment 1/html'\n",
    "\n",
    "# Initialize an empty list to store the data\n",
    "data = []\n",
    "\n",
    "# Iterate through each file in the folder\n",
    "for filename in os.listdir(folder_path):\n",
    "    if filename.endswith('.html'):\n",
    "        # Extract category from filename\n",
    "        category = filename.split(' ')[0]  # the category is the first part of the filename before underscore\n",
    "        \n",
    "        # Read the HTML file\n",
    "        with open(os.path.join(folder_path, filename), 'r', encoding='utf-8') as file:\n",
    "            content = file.read()\n",
    "\n",
    "        # Parse the HTML content\n",
    "        soup = BeautifulSoup(content, 'html.parser')\n",
    "        \n",
    "        # Extract the relevant content\n",
    "        content_text = ' '.join([p.get_text() for p in soup.find_all('p')])\n",
    "        \n",
    "        # Tokenize the content into sentences\n",
    "        sentences = sent_tokenize(content_text)\n",
    "        \n",
    "        # Add each sentence as a separate entry with the category\n",
    "        for sentence in sentences:\n",
    "            data.append({'Category': category, 'Content': sentence})\n",
    "\n",
    "# Create a DataFrame using Pandas\n",
    "df = pd.DataFrame(data)"
   ]
  },
  {
   "cell_type": "code",
   "execution_count": 122,
   "metadata": {},
   "outputs": [
    {
     "name": "stdout",
     "output_type": "stream",
     "text": [
      "     Category                                            Content\n",
      "0        poem  Se o fim entrasse em minha vista\\nEntre risos ...\n",
      "1        poem                   Por que não logo que tu me mata?\n",
      "2        poem  Queima-me a pele e escalda-me a cabeça\\nGargal...\n",
      "3        poem  Não culpo a mim mesmo, pois eu que mereça\\nMas...\n",
      "4        poem  Atordoa-me até as últimas instâncias;\\nAlicate...\n",
      "...       ...                                                ...\n",
      "1404     tale  Já passa das duas e eu fico a pensar…  (Recife...\n",
      "1405     poem  Dor, sofrimento, combustãoPaisagem comum para ...\n",
      "1406     poem        ):Vocês tem muita sorte d’eu não ser o Cão.\n",
      "1407     poem  Mas então… MenteDesmenteSe sente contentePor a...\n",
      "1408     poem  Pergunta difícil de se responderTão difícil qu...\n",
      "\n",
      "[1409 rows x 2 columns]\n"
     ]
    }
   ],
   "source": [
    "print(df)"
   ]
  },
  {
   "cell_type": "markdown",
   "metadata": {},
   "source": [
    "# Data Processing"
   ]
  },
  {
   "cell_type": "markdown",
   "metadata": {},
   "source": [
    "## Data preparation"
   ]
  },
  {
   "cell_type": "markdown",
   "metadata": {},
   "source": [
    "Printing the dataset allows us to see how some of the observations look. Right away, we can see that some of the poems were not properly separated, and we have \"\\n\" tokens within the text. Based on that, we can work on the data to fix it."
   ]
  },
  {
   "cell_type": "code",
   "execution_count": 96,
   "metadata": {},
   "outputs": [
    {
     "name": "stdout",
     "output_type": "stream",
     "text": [
      "     Category                                            Content\n",
      "0        poem                   Se o fim entrasse em minha vista\n",
      "1        poem         Entre risos perguntando “do que se trata?”\n",
      "2        poem                            Puto, velho, vigarista!\n",
      "3        poem                   Por que não logo que tu me mata?\n",
      "4        poem             Queima-me a pele e escalda-me a cabeça\n",
      "...       ...                                                ...\n",
      "1603     tale  Já passa das duas e eu fico a pensar…  (Recife...\n",
      "1604     poem  Dor, sofrimento, combustãoPaisagem comum para ...\n",
      "1605     poem        ):Vocês tem muita sorte d’eu não ser o Cão.\n",
      "1606     poem  Mas então… MenteDesmenteSe sente contentePor a...\n",
      "1607     poem  Pergunta difícil de se responderTão difícil qu...\n",
      "\n",
      "[1608 rows x 2 columns]\n"
     ]
    }
   ],
   "source": [
    "# Create an empty list to store the updated data\n",
    "updated_data = []\n",
    "\n",
    "# Iterate through each row in the DataFrame\n",
    "for idx, row in df.iterrows():\n",
    "    content = row['Content']\n",
    "    \n",
    "    # Split the content by '\\n'\n",
    "    lines = content.split('\\n')\n",
    "    \n",
    "    # Add each line as a separate entry\n",
    "    for line in lines:\n",
    "        if line.strip():  # Check if line is not empty (to avoid adding empty entries)\n",
    "            updated_data.append({'Category': row['Category'], 'Content': line.strip()})\n",
    "\n",
    "# Create a new DataFrame with the updated data\n",
    "updated_df = pd.DataFrame(updated_data)\n",
    "\n",
    "# Print the updated DataFrame\n",
    "print(updated_df)"
   ]
  },
  {
   "cell_type": "markdown",
   "metadata": {},
   "source": [
    "Printing random samples of the data a few times can help us identify whether there are other latent problems in the data."
   ]
  },
  {
   "cell_type": "code",
   "execution_count": 59,
   "metadata": {},
   "outputs": [
    {
     "name": "stdout",
     "output_type": "stream",
     "text": [
      "Content: Seus corpos desabam como o fizeram impérios que, um dia, foram invencíveis.\n",
      "Content: Sentava na cama, esticava a coluna e cumpria o ritual com o suspiro de sempre.\n",
      "Content: Sem mais delongas, é hora de irmos ao que importa.\n",
      "Content: Que se foda.\n",
      "Content: Que fez o coitado, mero simples sonhador?\n",
      "Content: Essas são as classes específicas do seu aplicativo: não as que são comuns a todos e foram criadas pela Apple (como ViewController), mas as que só existem no seu app e foram criadas por você.\n",
      "Content: É fácil falar de liberdade tendo tudo pago por mamãe e papai, mas a verdade é que ninguém na vida gosta de ter que escolher.\n",
      "Content: Saindo da água, marcava seu caminho pela areia, permitindo que o mar lhe procurasse caso um infortúnio a impedisse de voltar.\n",
      "Content: Assim: Passo 2: a seguir, abriremos a tradicional loadView, e nela criaremos uma variável qualquer para receber as características do nosso layout.\n",
      "Content: Caiu no chão a\n",
      "Content: As pessoas não entendiam por que muitas das decisões eram tomadas e, consequentemente, não se sentiam parte do processo.\n",
      "Content: A expressão delineada em seu semblante revelava longos anos de batalha pelo pão de cada dia, mas Dona Vero não era mulher de desistir fácil.\n",
      "Content: A luz, porém, ainda me supera na resistência, pois acende e apaga a cada três segundos enquanto meu ímpeto era de cortar o circuito e de uma vez desligar.\n",
      "Content: Dançava a melodia de seu próprio tom.\n",
      "Content: Seus lábios se contraíram quando falei outra vez.\n",
      "Content: Que vida é essa, em que o terror persegue crianças esfaimando sem nunca parar?\n",
      "Content: Assim era ela.\n",
      "Content: Assim como a fria e obscura chuva, as profundezas da alma nos aguardam encharcados.\n",
      "Content: Tinha dia que Rosa até saía pra o rio, mas ainda assim voltava antes de ele chegar.\n",
      "Content: cirrose.\n"
     ]
    }
   ],
   "source": [
    "# Randomly select 20 observations\n",
    "random_observations = updated_df.sample(n=20) \n",
    "\n",
    "# Print the content of the selected observations\n",
    "for idx, row in random_observations.iterrows():\n",
    "    print(f\"Content: {row['Content']}\")\n"
   ]
  },
  {
   "cell_type": "markdown",
   "metadata": {},
   "source": [
    "## Exploratory analysis"
   ]
  },
  {
   "cell_type": "markdown",
   "metadata": {},
   "source": [
    "Before anything else, we should look into balance. How many entries are there in the dataframe for each category?"
   ]
  },
  {
   "cell_type": "code",
   "execution_count": 97,
   "metadata": {},
   "outputs": [
    {
     "name": "stdout",
     "output_type": "stream",
     "text": [
      "tale        922\n",
      "tutorial    312\n",
      "poem        309\n",
      "opinion      65\n",
      "Name: Category, dtype: int64\n"
     ]
    }
   ],
   "source": [
    "label_counts = updated_df['Category'].value_counts()\n",
    "print(label_counts)"
   ]
  },
  {
   "cell_type": "markdown",
   "metadata": {},
   "source": [
    "The dataset is very imbalanced, as we observe from the presence of 3 times more \"tale\" entries than tutorials or poems. This might skew the model and affect which performance metrics we can rely on, as we will discuss later on. "
   ]
  },
  {
   "cell_type": "markdown",
   "metadata": {},
   "source": [
    "# Task Explanation and Data Split"
   ]
  },
  {
   "cell_type": "markdown",
   "metadata": {},
   "source": [
    "## Task explanation"
   ]
  },
  {
   "cell_type": "markdown",
   "metadata": {},
   "source": [
    "To gather insights into my writing, we can start by analyzing how it changes according to its purpose. Specifically, is the way I write poems, for example, different from how I write tutorials or tales? \n",
    "\n",
    "If I am a great writer, we should expect that I have a unique writing style, that my pieces are unmistakable, and that one can identify which kind of text they're reading by having just a snippet. Therefore, I analyze: given a single sentence, how well can we predict the type of piece (poem, tale...) where it came from? This will be the focus of this assignment."
   ]
  },
  {
   "cell_type": "markdown",
   "metadata": {},
   "source": [
    "## Data split\n",
    "\n",
    "From the original dataset, we can create two splits to train and validate our model."
   ]
  },
  {
   "cell_type": "code",
   "execution_count": 99,
   "metadata": {},
   "outputs": [],
   "source": [
    "from sklearn.model_selection import train_test_split\n",
    "\n",
    "# Separates target variable from predictor variables (which, in this case, is just the Content column)\n",
    "X = updated_df['Content']\n",
    "y = updated_df['Category']\n",
    "\n",
    "# Splits the data into training and testing sets, with the testing set containing 20% of the original dataset\n",
    "X_train, X_test, y_train, y_test = train_test_split(X, y, test_size=0.2)\n"
   ]
  },
  {
   "cell_type": "markdown",
   "metadata": {},
   "source": [
    "# Model Selection"
   ]
  },
  {
   "cell_type": "markdown",
   "metadata": {},
   "source": [
    "### **Naive Bayes Classifier**"
   ]
  },
  {
   "cell_type": "markdown",
   "metadata": {},
   "source": [
    "In order to analyze whether my writing style changes according to the purpose at hand, we can pay attention to the vocabulary I use. Poems, for example, usually have a very different language than tutorial articles: it wouldn't be surprising to find in a poem a sentence such as \"In this weary heart, love's flame grows pale,\" but one would never find such phrasing in a Medium piece on how to create a neural network. \n",
    "\n",
    "\n",
    "One model that is well suited for analyzing words across documents in the Naive Bayes Classifier (NBC). NBCs take advantage of the fact that some words are more likely to appear in one type of document than others, using this knowledge to predict what kind of document it is looking at, given the words it sees. Specifically, when fed with a string of text, NBCs calculates $P(\\text{document}|\\text{words})$ for multiple kinds of documents. It then outputs the document category with the highest probability. This probability is called posterior, and in order to calculate it, NBCs use Bayes' theorem and its components: priors and likelihoods. \n",
    "\n",
    "Priors are the probabilities of observing each kind of text (poem, tale, etc.) in the training corpus. To calculate $P(\\text{document})$, the NBC simply counts the frequency of each document in the whole corpus, which is not a complex process.\n",
    "\n",
    "$$\n",
    "P(\\text{document}) = \\frac{\\text{Count a specific type of document}}{\\text{Number of documents in corpus D}}\n",
    "$$\n",
    "\n",
    "Likelihoods, on the other hand, are the probabilities of observing specific words in each kind of text, $P(\\text{word}|\\text{document})$. Calculating it is a bit more cumbersome: for each word and each document, we need to count the occurrence of that word across all documents of the same type and divide it by the total number of words in those documents.\n",
    "\n",
    "$$\n",
    "P(\\text{word}|\\text{document}) = \\frac{\\text{Count of a specific term t }}{\\text{Number of terms in document d}}\n",
    "$$\n",
    "\n",
    "\n",
    "We bring these two together to calculate the posterior $P(\\text{document}|\\text{words})$. For a given set of $n$ words $W$:\n",
    "\n",
    "$$\n",
    "P(\\text{document}|w_i, ..., w_j) = P(\\text{document}) \\prod_{i=1}^n{P(w_i|\\text{document})}\n",
    "$$\n",
    "\n",
    "There is one small caveat to this: instead of calculating $P(\\text{word}|\\text{document})$ manually, we use an algorithm named TF-IDF."
   ]
  },
  {
   "cell_type": "markdown",
   "metadata": {},
   "source": [
    "### **TF-IDF**"
   ]
  },
  {
   "cell_type": "markdown",
   "metadata": {},
   "source": [
    "To obtain the likelihoods that NBCs use, we can employ TF-IDF, which stands for Term Frequency-Inverse Document Frequency. In essence, this is a metric used to evaluate the importance of a word in a single document relative to a collection of documents (or corpus). We can break TF-IDF down in the following way:\n",
    "\n",
    "#### Term Frequency (TF)\n",
    "The first part of the metric, Term Frequency (TF), evaluates how frequently a term occurs in a document. It is calculated as the ratio of the number of times a specific term appears in a document to the total number of terms in the document.\n",
    "\n",
    "Mathematically, TF is defined as:\n",
    "$$\n",
    "TF(t, d) = \\frac{\\text{Number of times term t appears in document d}}{\\text{Total number of terms in document d}}\n",
    "$$\n",
    "\n",
    "A higher TF indicates that a term is more important in a document. <br><br><br>\n",
    "\n",
    "#### Inverse Document Frequency (IDF)\n",
    "We then have IDF, which measures the importance of a term across the corpus. It is calculated as the logarithm of the total number of documents divided by the number of documents that contain the term. Mathematically:\n",
    "\n",
    "$$\n",
    "IDF = \\log \\left(\\frac{\\text{Total number of documents in corpus D}}{\\text{Number of documents containing term t}}\\right)\n",
    "$$\n",
    "\n",
    "Terms that occur in many documents will have a lower IDF, while terms that occur in fewer documents will have a higher IDF. <br><br><br>\n",
    "\n",
    "#### TF-IDF Score\n",
    "If we multiply TF and IDF, we have the full TF-IDF score. It combines the importance of a term within a document (TF) with its importance across the corpus (IDF). Terms with high TF-IDF scores are considered important for a particular document, which is exactly the kind of metric we need for the NBC."
   ]
  },
  {
   "cell_type": "markdown",
   "metadata": {},
   "source": [
    "# Model Training"
   ]
  },
  {
   "cell_type": "markdown",
   "metadata": {},
   "source": [
    "The code below performs the TF-IDF calculation and trains the Naive Bayes Classifier.\n",
    "\n",
    "By calling `vectorizer.fit_transform(X_train)`, we look to learn about the training data and document frequencies. This would be equivalent to calling `vectorizer.fit(X_train)` and then `vectorizer.transform(X_train)`. The first call would execute the following steps:\n",
    "1. **Tokenization**: breaks down the text into unitary parts, which are the tokens. \n",
    "2. **Building vocabulary**: builds up the vocabulary of different tokens in the training data; these terms become the columns in the TF-IDF matrix.\n",
    "3. **Calculating Document Frequencies (DF)**: counts how many documents each term appears in, which will be used to calculate the IDF later.\n",
    "4. **Calculating Term Frequencies (TF)**: counts how many times each term appears in each document in the training data, as described above.\n",
    "\n",
    "Then, the second call (`vectorizer.transform(X_train)`) creates the full TF-IDF matrix. Each document (dataset entry) is transformed into a numerical vector that represents its TF-IDF scores for each term it contains. Consequently, the TF-IDF matrix `vec_texts` is a sparse matrix where each row corresponds to a dataset entry, and each column corresponds to a unique term. The entries represent the TF-IDF scores.\n",
    "\n",
    "Last, we have `model.fit(vec_texts, y_train)`, which calculated the priors $P(\\text{document})$ for each kind of text and creates the structure for quickly calculating the posterior $P(\\text{document}|\\text{terms})$ once inputs arrive. Once this is in place, the model is considered trained."
   ]
  },
  {
   "cell_type": "code",
   "execution_count": 100,
   "metadata": {},
   "outputs": [
    {
     "data": {
      "text/plain": [
       "MultinomialNB()"
      ]
     },
     "execution_count": 100,
     "metadata": {},
     "output_type": "execute_result"
    }
   ],
   "source": [
    "from sklearn.feature_extraction import text\n",
    "from sklearn import metrics, naive_bayes\n",
    "\n",
    "vectorizer = text.TfidfVectorizer() \n",
    "vec_texts = vectorizer.fit_transform(X_train)\n",
    "\n",
    "model = naive_bayes.MultinomialNB()\n",
    "model.fit(vec_texts, y_train)"
   ]
  },
  {
   "cell_type": "markdown",
   "metadata": {},
   "source": [
    "# Predictions and Performance"
   ]
  },
  {
   "cell_type": "markdown",
   "metadata": {},
   "source": [
    "### Creating a single prediction"
   ]
  },
  {
   "cell_type": "markdown",
   "metadata": {},
   "source": [
    "In order to create predictions, we need to first vectorize the input text using the matrix we created above, and then give it to the model for a category to be predicted. This can be done with the script below:"
   ]
  },
  {
   "cell_type": "code",
   "execution_count": 101,
   "metadata": {},
   "outputs": [],
   "source": [
    "def make_prediction(text):\n",
    "    vectorized_sample_text = vectorizer.transform([text])\n",
    "    prediction = model.predict(vectorized_sample_text)\n",
    "\n",
    "    print(f\"Original text: {text}\")\n",
    "    print(f\"Model prediction: {prediction}\")"
   ]
  },
  {
   "cell_type": "markdown",
   "metadata": {},
   "source": [
    "If we write, for example, a text such as \"This text was created to test the model\", the model will predict:"
   ]
  },
  {
   "cell_type": "code",
   "execution_count": 116,
   "metadata": {},
   "outputs": [
    {
     "name": "stdout",
     "output_type": "stream",
     "text": [
      "Original text: Este texto foi criado para testar o modelo\n",
      "Model prediction: ['tale']\n"
     ]
    }
   ],
   "source": [
    "# Translating the phrase, because the model was trained with text in Portuguese\n",
    "make_prediction(\"Este texto foi criado para testar o modelo\")"
   ]
  },
  {
   "cell_type": "markdown",
   "metadata": {},
   "source": [
    "### Model performance over the test set"
   ]
  },
  {
   "cell_type": "markdown",
   "metadata": {},
   "source": [
    "After the test set was created, we can have a look into it to understand its composition. Although there still is a disproportional amount of tales, samples from all categories can be found."
   ]
  },
  {
   "cell_type": "code",
   "execution_count": 103,
   "metadata": {},
   "outputs": [
    {
     "name": "stdout",
     "output_type": "stream",
     "text": [
      "Real composition of the test set:\n",
      "tale        191\n",
      "tutorial     74\n",
      "poem         45\n",
      "opinion      12\n",
      "Name: Category, dtype: int64\n"
     ]
    }
   ],
   "source": [
    "print(\"Real composition of the test set:\")\n",
    "print(y_test.value_counts())"
   ]
  },
  {
   "cell_type": "markdown",
   "metadata": {},
   "source": [
    "Evaluating the model's predictons, however, we can notice something seems wrong: the model overpredicts tales (the category with the largest presence in the dataset) and does not predict two of the four categories at all."
   ]
  },
  {
   "cell_type": "code",
   "execution_count": 105,
   "metadata": {},
   "outputs": [
    {
     "name": "stdout",
     "output_type": "stream",
     "text": [
      "Predicted composition of the test set:\n",
      "tale: 300\n",
      "tutorial: 22\n"
     ]
    }
   ],
   "source": [
    "# Vectorizing test set\n",
    "vec_texts_test = vectorizer.transform(X_test)\n",
    "\n",
    "# Generating predictions for it\n",
    "pred_y = model.predict(vec_texts_test)\n",
    "\n",
    "# This function counts the frequency of words in a list\n",
    "def count_words(word_list):\n",
    "    word_counts = {}\n",
    "    for word in word_list:\n",
    "        if word in word_counts:\n",
    "            word_counts[word] += 1\n",
    "        else:\n",
    "            word_counts[word] = 1\n",
    "    return word_counts\n",
    "\n",
    "word_counts = count_words(pred_y)\n",
    "\n",
    "print(\"Predicted composition of the test set:\")\n",
    "for word, count in word_counts.items():\n",
    "    print(f'{word}: {count}')"
   ]
  },
  {
   "cell_type": "markdown",
   "metadata": {},
   "source": [
    "We can better observe the NBC's performance through a confusion matrix. As we see below, the model correctly classifies all 198 tales. However, it also classifies all opinion articles, poems, and half of the tutorials as tales, making it overconfident for this category."
   ]
  },
  {
   "cell_type": "code",
   "execution_count": 106,
   "metadata": {},
   "outputs": [
    {
     "data": {
      "image/png": "[encoded data removed]",
      "text/plain": [
       "<Figure size 720x576 with 1 Axes>"
      ]
     },
     "metadata": {},
     "output_type": "display_data"
    }
   ],
   "source": [
    "import matplotlib.pyplot as plt\n",
    "import seaborn as sns\n",
    "\n",
    "# Extracting labels from the test set for plotting\n",
    "labels = sorted(y_test.unique())\n",
    "\n",
    "# Plotting\n",
    "plt.figure(figsize=(10, 8))\n",
    "confusion_mat = metrics.confusion_matrix(y_test, pred_y)\n",
    "sns.heatmap(confusion_mat, square=True, annot=True, fmt='d', cbar=False, xticklabels=labels, yticklabels=labels, annot_kws={'size': 12})\n",
    "plt.xlabel('Predicted', fontsize=16)\n",
    "plt.ylabel('True', fontsize=16)\n",
    "plt.xticks(fontsize=14)\n",
    "plt.yticks(fontsize=14)\n",
    "plt.show()"
   ]
  },
  {
   "cell_type": "markdown",
   "metadata": {},
   "source": [
    "This is directly caused by the imbalance in the data. As previously explained, NBCs use priors and likelihoods to predict categories. Specifically:\n",
    "\n",
    "$$\n",
    "p(\\text{category}|\\text{words}) = p(\\text{words}|\\text{category}) . p(\\text{category})\n",
    "$$\n",
    "\n",
    "With an imbalanced dataset, the prior $p(\\text{category})$ dominates the calculation, decreasing the relevance of the likelihood. This is why our model is overconfident about tales: in the original dataset, tales were three times more common than poems or tutorials, and fourteen times more common than opinion articles!"
   ]
  },
  {
   "cell_type": "markdown",
   "metadata": {},
   "source": [
    "### Performance metrics"
   ]
  },
  {
   "cell_type": "markdown",
   "metadata": {},
   "source": [
    "To evaluate how the model is performing, we could start with **accuracy**. This evaluates, out of all instances in the test set, how many were correctly classified. Mathematically speaking:\n",
    "\n",
    "$$\n",
    "\\text{Accuracy} = \\frac{\\text{True poems + True tales + True tutorials + True opinion articles}}{\\text{All (poems + tales + tutorials + opinion articles)}}\n",
    "$$\n",
    "\n",
    "Below, we can see an accuracy of 0.64, which is only a bit better than a random guess. However, accuracy is not a metric we should rely on, given how imbalanced the dataset is. One of the consequences of imbalanced data is that, depending on the imbalance, even if the model is only predicting a single label (like ours mostly is), we can still get a high accuracy score."
   ]
  },
  {
   "cell_type": "code",
   "execution_count": 117,
   "metadata": {},
   "outputs": [
    {
     "name": "stdout",
     "output_type": "stream",
     "text": [
      "Accuracy: 0.6490683229813664\n"
     ]
    }
   ],
   "source": [
    "from sklearn.metrics import accuracy_score, precision_score, recall_score, f1_score\n",
    "\n",
    "# Accuracy\n",
    "accuracy = accuracy_score(y_test, pred_y)\n",
    "\n",
    "print(f'Accuracy: {accuracy}')"
   ]
  },
  {
   "cell_type": "markdown",
   "metadata": {},
   "source": [
    "Instead, other metrics can be more informative, such as precision, recall, and F1. \n",
    "\n",
    "##### Precision\n",
    "This metric focuses on the accuracy of positive predictions. It answers the question: \"out of everything that was predicted positive, how much was actually right?\" In our case, precision tells us the proportion of correctly predicted instances for a specific text category compared to all instances predicted to be part of that category.\n",
    "\n",
    "$$\n",
    "\\text{Precision} = \\frac{\\text{True Positives}}{\\text{True Positives + False Positives}}\n",
    "$$\n",
    "\n",
    "Here, we will have one precision score for each category, which are then averaged considering the weight of the number of observations in each clas:\n",
    "\n",
    "$$\n",
    "\\text{Weighted Precision} = \\frac{\\sum_{i=1}^{n} \\text{Precision}_i \\cdot \\text{Support}_i}{\\sum_{i=1}^{n} \\text{Support}_i}\n",
    "$$\n",
    "\n",
    "Here:\n",
    "- $\\text{Precision}_i$ is the precision for class _i_\n",
    "- $\\text{Support}_i$ is the number of samples for class _i_\n",
    "- $n$ is the total number of classes\n",
    "\n",
    "##### Recall\n",
    "Recall answers a slightly different question: out of all texts that _should have been_ predicted as being from a given class, how many were indeed identified? \n",
    "\n",
    "$$\n",
    "\\text{Recall} = \\frac{\\text{True Positives}}{\\text{True Positives + False Negatives}}\n",
    "$$\n",
    "\n",
    "We again weight the results, like we did with Precision scores.\n",
    "\n",
    "##### F1 Score\n",
    "This metric combines precision and recall to provide a balanced evaluation of the model's performance. Mathematically, it is the harmonic mean of precision and recall.\n",
    "\n",
    "$$\n",
    "\\text{F1 Score} = 2 \\times \\frac{\\text{Precision} \\times \\text{Recall}}{\\text{Precision + Recall}}\n",
    "$$"
   ]
  },
  {
   "cell_type": "code",
   "execution_count": 120,
   "metadata": {},
   "outputs": [
    {
     "name": "stdout",
     "output_type": "stream",
     "text": [
      "Precision: 0.5826171654432524\n",
      "Recall: 0.6490683229813664\n",
      "F1-Score: 0.5524102583564197\n"
     ]
    }
   ],
   "source": [
    "# Precision\n",
    "precision = precision_score(y_test, pred_y, average='weighted')\n",
    "\n",
    "# Recall\n",
    "recall = recall_score(y_test, pred_y, average='weighted')\n",
    "\n",
    "# F1-Score\n",
    "f1 = f1_score(y_test, pred_y, average='weighted')\n",
    "\n",
    "print(f'Precision: {precision}')\n",
    "print(f'Recall: {recall}')\n",
    "print(f'F1-Score: {f1}')"
   ]
  },
  {
   "cell_type": "markdown",
   "metadata": {},
   "source": [
    "As observed, the model performs poorly as a whole, and we cannot really draw conclusions about the dataset."
   ]
  },
  {
   "cell_type": "markdown",
   "metadata": {},
   "source": [
    "# Extra section: balancing the data"
   ]
  },
  {
   "cell_type": "markdown",
   "metadata": {},
   "source": [
    "To show the impact of balancing the dataset, I have done that below. The following code cells remove 65% of the \"tale\" observations from the dataset, making different categories more similar. Then, it performs all of the steps we did above to create the model and make predictions."
   ]
  },
  {
   "cell_type": "code",
   "execution_count": 146,
   "metadata": {},
   "outputs": [
    {
     "name": "stdout",
     "output_type": "stream",
     "text": [
      "tale        323\n",
      "tutorial    312\n",
      "poem        309\n",
      "opinion      65\n",
      "Name: Category, dtype: int64\n"
     ]
    }
   ],
   "source": [
    "# Define the condition\n",
    "condition = (updated_df['Category'] == 'tale')\n",
    "\n",
    "# Get the indices of rows where Category is 'tale'\n",
    "tale_indices = updated_df[condition].index\n",
    "\n",
    "# Calculate the number of rows to remove (65% of 'tale' rows)\n",
    "num_rows_to_remove = int(0.65 * len(tale_indices))\n",
    "\n",
    "# Randomly select and remove 60% of 'tale' rows\n",
    "rows_to_remove = updated_df.loc[tale_indices].sample(n=num_rows_to_remove)\n",
    "trimmed_df = updated_df.drop(rows_to_remove.index)\n",
    "\n",
    "label_counts = trimmed_df['Category'].value_counts()\n",
    "print(label_counts)\n"
   ]
  },
  {
   "cell_type": "code",
   "execution_count": 151,
   "metadata": {},
   "outputs": [],
   "source": [
    "# Separates target variable from predictor variables (which, in this case, is just the Content column)\n",
    "X = trimmed_df['Content']\n",
    "y = trimmed_df['Category']\n",
    "\n",
    "# Splits the data into training and testing sets, with the testing set containing 20% of the original dataset\n",
    "X_train, X_test, y_train, y_test = train_test_split(X, y, test_size=0.2)"
   ]
  },
  {
   "cell_type": "code",
   "execution_count": 152,
   "metadata": {},
   "outputs": [
    {
     "data": {
      "text/plain": [
       "MultinomialNB()"
      ]
     },
     "execution_count": 152,
     "metadata": {},
     "output_type": "execute_result"
    }
   ],
   "source": [
    "# Vectorizes the text and trains the model\n",
    "vectorizer = text.TfidfVectorizer() \n",
    "vec_texts = vectorizer.fit_transform(X_train)\n",
    "\n",
    "model = naive_bayes.MultinomialNB()\n",
    "model.fit(vec_texts, y_train)"
   ]
  },
  {
   "cell_type": "code",
   "execution_count": 153,
   "metadata": {},
   "outputs": [
    {
     "data": {
      "image/png": "[encoded data removed]",
      "text/plain": [
       "<Figure size 720x576 with 1 Axes>"
      ]
     },
     "metadata": {},
     "output_type": "display_data"
    }
   ],
   "source": [
    "# Vectorizing test set\n",
    "vec_texts_test = vectorizer.transform(X_test)\n",
    "\n",
    "# Generating predictions for it\n",
    "pred_y = model.predict(vec_texts_test)\n",
    "\n",
    "# Extracting labels from the test set for plotting\n",
    "labels = sorted(y_test.unique())\n",
    "\n",
    "# Plotting\n",
    "plt.figure(figsize=(10, 8))\n",
    "confusion_mat = metrics.confusion_matrix(y_test, pred_y)\n",
    "sns.heatmap(confusion_mat, square=True, annot=True, fmt='d', cbar=False, xticklabels=labels, yticklabels=labels, annot_kws={'size': 12})\n",
    "plt.xlabel('Predicted', fontsize=16)\n",
    "plt.ylabel('True', fontsize=16)\n",
    "plt.xticks(fontsize=14)\n",
    "plt.yticks(fontsize=14)\n",
    "plt.show()"
   ]
  },
  {
   "cell_type": "code",
   "execution_count": 155,
   "metadata": {},
   "outputs": [
    {
     "name": "stdout",
     "output_type": "stream",
     "text": [
      "Accuracy: 0.6287128712871287\n",
      "Precision: 0.5955439062020563\n",
      "Recall: 0.6287128712871287\n",
      "F1-Score: 0.5943326475504694\n"
     ]
    }
   ],
   "source": [
    "# Accuracy\n",
    "accuracy = accuracy_score(y_test, pred_y)\n",
    "\n",
    "# Precision\n",
    "precision = precision_score(y_test, pred_y, average='weighted')\n",
    "\n",
    "# Recall\n",
    "recall = recall_score(y_test, pred_y, average='weighted')\n",
    "\n",
    "# F1-Score\n",
    "f1 = f1_score(y_test, pred_y, average='weighted')\n",
    "\n",
    "print(f'Accuracy: {accuracy}')\n",
    "print(f'Precision: {precision}')\n",
    "print(f'Recall: {recall}')\n",
    "print(f'F1-Score: {f1}')"
   ]
  },
  {
   "cell_type": "markdown",
   "metadata": {},
   "source": [
    "Interesting enough, the model did not become much more accurate than before. However, we can now be sure that it is not being overconfident about one of the categories anymore! According to the results, my tutorials are \"very original\", having a vocabulary of their own (which is understandable, given that I use technical terms in them, which do not appear in anything else I wrote). My poems, however, do not seem to be much different from my tales, meaning that maybe I should stay away from AH courses!"
   ]
  },
  {
   "cell_type": "markdown",
   "metadata": {},
   "source": [
    "# Executive summary\n",
    "In the previous sections, we tried to gather insights about my writing style over the past ten years. We started by importing data from my Tumblr and Medium blogs, which were transferred to a dataframe and cleaned. Then, we split the data into training and test sets, which were vectorized with TF-IDF and passed to an NBC.\n",
    "\n",
    "At first, the NBC was overconfident about one of the categories due to a significant dataset imbalance. When analyzing its performance, it was not much better than a coin thrown in the air. We then reduced the dataset to decrease the model's bias and explored how it performs again. The model performance per se did not change much, but this time, we could learn something from the results: although my tutorials have a language of their own, the vocabulary I use for poems and tales is very similar, and one cannot distinguish accurately between both when given a single sentence to read.\n",
    "\n",
    "Despite these results, we must note that the question we initially posed cannot be fully answered by an NBC — even if we had one working well. This happens because, if we had a highly accurate classifier, we could conclude that our writing style indeed varies for different kinds of texts: if poems and tales can be differentiated based on vocabulary, they are definitely very different from each other.\n",
    "\n",
    "However, if the NBC told us we are unable to differentiate texts based on vocabulary, we would _not_ be able to conclude my writing across all categories is the same. Naive Bayes Classifiers assume independence between words and do not account for higher-level characteristics, such as how words are positioned in a phrase. Consequently, the sentence \"I start my day with sun\" would be identical to \"With sun I start my day\" for an NBC, even though one is more likely to be in a poem, for example, than the other.\n",
    "\n",
    "To account for such differences, we would need more advanced models, such as Transformer-based models that can use attention."
   ]
  },
  {
   "cell_type": "markdown",
   "metadata": {},
   "source": [
    "# References"
   ]
  },
  {
   "cell_type": "markdown",
   "metadata": {},
   "source": [
    "How to Create Naive Bayes Document Classification in Python?\n",
    "- https://www.turing.com/kb/document-classification-using-naive-bayes\n",
    "- https://www.datacamp.com/tutorial/naive-bayes-scikit-learn\n",
    "- https://medium.com/@eiki1212/natural-language-processing-naive-bayes-classification-in-python-e934365cf40c\n",
    "\n",
    "TF-IDF vectorizer documentation\n",
    "- https://scikit-learn.org/stable/modules/generated/sklearn.feature_extraction.text.TfidfVectorizer.html\n",
    "\n",
    "TF-IDF theory (the book below, Chapter 6)\n",
    "- https://web.stanford.edu/~jurafsky/slp3/\n",
    "\n",
    "PCW code from Session 3.1"
   ]
  },
  {
   "cell_type": "markdown",
   "metadata": {},
   "source": [
    "# HCs\n",
    "\n",
    "**rightproblem**: Based on a goal of getting insights about my writing, I narrowed down and framed the problem in a tractable way: analyzing whether the vocabulary I used for different kinds of text was the same. I then designed an experiment to tackle the problem, made a critique to it (imbalanced data led to model unreliability), redesigned the solution, and critiqued the outcomes again (although the model is more reliable in terms of design, it is not appropriate to address the question at hand because it assumes words are independent).\n",
    "\n",
    "**modeling**: Given the problem at hand (classifying texts based on their words), I identified a suitable model (Naive Bayes), explained why it was relevant, walked through how it works, analyzed its results, and explained its limitations.\n",
    "\n",
    "**plausibility**: When discussing how appropriate Naive Bayes was, I explained its relevance for the task, but also its limitations given the assumptions it makes (independence between words). I also explained the assumptions behind accuracy, emphasizing and exemplifying why it is not a suitable metric for imbalanced datasets.\n",
    "\n",
    "**composition**: Throughout the assignment, I avoided highly technical terms and explained all concepts in an accessible way. Paragraphs were carefully reviewed not to be tiring, long sentences were avoided, and examples were provided when necessary to enhance clarity. "
   ]
  },
  {
   "cell_type": "markdown",
   "metadata": {},
   "source": [
    "# AI Statement\n",
    "\n",
    "AI was extensively used in this assignment, mostly for simple coding tasks (e.g.: \"plot me a graph\") or for checking my own explanations."
   ]
  }
 ],
 "metadata": {
  "kernelspec": {
   "display_name": "Python 3",
   "language": "python",
   "name": "python3"
  },
  "language_info": {
   "codemirror_mode": {
    "name": "ipython",
    "version": 3
   },
   "file_extension": ".py",
   "mimetype": "text/x-python",
   "name": "python",
   "nbconvert_exporter": "python",
   "pygments_lexer": "ipython3",
   "version": "3.8.8"
  }
 },
 "nbformat": 4,
 "nbformat_minor": 4
}
